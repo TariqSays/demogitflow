{
 "cells": [
  {
   "cell_type": "code",
   "execution_count": 9,
   "metadata": {},
   "outputs": [],
   "source": [
    "page = ''' </head>\n",
    "<body>\n",
    "<div id=\"topContainer\">\n",
    "<div id=\"topLeft\">\n",
    "<ul>\n",
    "<li><a href=\"http://blag.xkcd.com\">Blag</a></li>\n",
    "<li><a href=\"/how-to/\">How To</a></li>\n",
    "<li><a href=\"http://store.xkcd.com/\">Store</a></li>\n",
    "<li><a rel=\"author\" href=\"/about\">About</a></li>\n",
    "<li><a href=\"/atom.xml\">Feed</a> &bull; <a href=\"/newsletter/\">Email</a></li>\n",
    "</ul>\n",
    "\n",
    "'''"
   ]
  },
  {
   "cell_type": "code",
   "execution_count": 10,
   "metadata": {},
   "outputs": [
    {
     "data": {
      "text/plain": [
       "' </head>\\n<body>\\n<div id=\"topContainer\">\\n<div id=\"topLeft\">\\n<ul>\\n<li><a href=\"http://blag.xkcd.com\">Blag</a></li>\\n<li><a href=\"/how-to/\">How To</a></li>\\n<li><a href=\"http://store.xkcd.com/\">Store</a></li>\\n<li><a rel=\"author\" href=\"/about\">About</a></li>\\n<li><a href=\"/atom.xml\">Feed</a> &bull; <a href=\"/newsletter/\">Email</a></li>\\n</ul>\\n\\n'"
      ]
     },
     "execution_count": 10,
     "metadata": {},
     "output_type": "execute_result"
    }
   ],
   "source": [
    "page"
   ]
  },
  {
   "cell_type": "code",
   "execution_count": 11,
   "metadata": {},
   "outputs": [],
   "source": [
    "start_link = page.find('<a href')"
   ]
  },
  {
   "cell_type": "code",
   "execution_count": 12,
   "metadata": {},
   "outputs": [
    {
     "name": "stdout",
     "output_type": "stream",
     "text": [
      "68\n"
     ]
    }
   ],
   "source": [
    "print(start_link)"
   ]
  },
  {
   "cell_type": "code",
   "execution_count": 13,
   "metadata": {},
   "outputs": [],
   "source": [
    "start_quote = page.find('\"',start_link)"
   ]
  },
  {
   "cell_type": "code",
   "execution_count": 14,
   "metadata": {},
   "outputs": [
    {
     "name": "stdout",
     "output_type": "stream",
     "text": [
      "76\n"
     ]
    }
   ],
   "source": [
    "print(start_quote)"
   ]
  },
  {
   "cell_type": "code",
   "execution_count": 15,
   "metadata": {},
   "outputs": [],
   "source": [
    "end_quote = page.find('\"',start_quote+1)"
   ]
  },
  {
   "cell_type": "code",
   "execution_count": 16,
   "metadata": {},
   "outputs": [
    {
     "name": "stdout",
     "output_type": "stream",
     "text": [
      "97\n"
     ]
    }
   ],
   "source": [
    "print(end_quote)"
   ]
  },
  {
   "cell_type": "code",
   "execution_count": 17,
   "metadata": {},
   "outputs": [],
   "source": [
    "url = page[start_quote+1:end_quote]"
   ]
  },
  {
   "cell_type": "code",
   "execution_count": 18,
   "metadata": {},
   "outputs": [
    {
     "data": {
      "text/plain": [
       "'http://blag.xkcd.com'"
      ]
     },
     "execution_count": 18,
     "metadata": {},
     "output_type": "execute_result"
    }
   ],
   "source": [
    "url"
   ]
  },
  {
   "cell_type": "code",
   "execution_count": 30,
   "metadata": {},
   "outputs": [],
   "source": [
    "input_wp = '''</head>\n",
    "<body>\n",
    "<div id=\"topContainer\">\n",
    "<div id=\"topLeft\">\n",
    "<ul>\n",
    "<li><a href=\"http://blag.xkcd.com\">Blag</a></li>\n",
    "<li><a href=\"/how-to/\">How To</a></li>\n",
    "<li><a href=\"http://store.xkcd.com/\">Store</a></li>\n",
    "<li><a rel=\"author\" href=\"/about\">About</a></li>\n",
    "<li><a href=\"/atom.xml\">Feed</a> &bull; <a href=\"/newsletter/\">Email</a></li>\n",
    "</ul>\n",
    "'''"
   ]
  },
  {
   "cell_type": "code",
   "execution_count": 31,
   "metadata": {},
   "outputs": [
    {
     "name": "stdout",
     "output_type": "stream",
     "text": [
      "enter web_page</head> <body> <div id=\"topContainer\"> <div id=\"topLeft\"> <ul> <li><a href=\"http://blag.xkcd.com\">Blag</a></li> <li><a href=\"/how-to/\">How To</a></li> <li><a href=\"http://store.xkcd.com/\">Store</a></li> <li><a rel=\"author\" href=\"/about\">About</a></li> <li><a href=\"/atom.xml\">Feed</a> &bull; <a href=\"/newsletter/\">Email</a></li> </ul>\n",
      "\n",
      "http://blag.xkcd.com\n"
     ]
    }
   ],
   "source": [
    "def get_next_target(page):\n",
    "    start_link = page.find('<a href')\n",
    "    start_quote = page.find('\"',start_link)\n",
    "    end_quote = page.find('\"',start_quote+1)\n",
    "    url = page[start_quote+1:end_quote]\n",
    "    return url\n",
    "\n",
    "input_wp = input('enter web_page')\n",
    "url = get_next_target(input_wp)\n",
    "print('')\n",
    "print(url)"
   ]
  },
  {
   "cell_type": "code",
   "execution_count": null,
   "metadata": {},
   "outputs": [],
   "source": []
  },
  {
   "cell_type": "code",
   "execution_count": null,
   "metadata": {},
   "outputs": [],
   "source": []
  }
 ],
 "metadata": {
  "kernelspec": {
   "display_name": "Python 3",
   "language": "python",
   "name": "python3"
  },
  "language_info": {
   "codemirror_mode": {
    "name": "ipython",
    "version": 3
   },
   "file_extension": ".py",
   "mimetype": "text/x-python",
   "name": "python",
   "nbconvert_exporter": "python",
   "pygments_lexer": "ipython3",
   "version": "3.7.4"
  }
 },
 "nbformat": 4,
 "nbformat_minor": 2
}
